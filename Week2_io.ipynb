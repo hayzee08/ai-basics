{
  "nbformat": 4,
  "nbformat_minor": 0,
  "metadata": {
    "colab": {
      "provenance": [],
      "authorship_tag": "ABX9TyPeoKjL+EyeQV8ThcxowkLG",
      "include_colab_link": true
    },
    "kernelspec": {
      "name": "python3",
      "display_name": "Python 3"
    },
    "language_info": {
      "name": "python"
    }
  },
  "cells": [
    {
      "cell_type": "markdown",
      "metadata": {
        "id": "view-in-github",
        "colab_type": "text"
      },
      "source": [
        "<a href=\"https://colab.research.google.com/github/olanigan/ai-basics/blob/main/Week2_io.ipynb\" target=\"_parent\"><img src=\"https://colab.research.google.com/assets/colab-badge.svg\" alt=\"Open In Colab\"/></a>"
      ]
    },
    {
      "cell_type": "code",
      "execution_count": 1,
      "metadata": {
        "colab": {
          "base_uri": "https://localhost:8080/"
        },
        "id": "nULbiZfdvw8N",
        "outputId": "66d252bf-2c93-414c-b507-bac57f2bce4c"
      },
      "outputs": [
        {
          "output_type": "stream",
          "name": "stdout",
          "text": [
            "Good day, it's week 2\n"
          ]
        }
      ],
      "source": [
        "print(\"Good day, it's week 2\")"
      ]
    },
    {
      "cell_type": "code",
      "source": [
        "title = \"Origins of Abeokuta\"\n",
        "prompt = f\"Tell me a story about {title}\"\n",
        "print(prompt)"
      ],
      "metadata": {
        "colab": {
          "base_uri": "https://localhost:8080/"
        },
        "id": "T6mGKWwAy7x4",
        "outputId": "1fa229f8-c0b1-4114-b00e-abd4c6f053c3"
      },
      "execution_count": 2,
      "outputs": [
        {
          "output_type": "stream",
          "name": "stdout",
          "text": [
            "Tell me a story about Origins of Abeokuta\n"
          ]
        }
      ]
    },
    {
      "cell_type": "code",
      "source": [
        "# Functions\n",
        "def generate_story_prompt(title):\n",
        "    prompt = f\"Tell me a story about {title}\"\n",
        "    return prompt"
      ],
      "metadata": {
        "id": "oPJnpNTczOmu"
      },
      "execution_count": 3,
      "outputs": []
    },
    {
      "cell_type": "code",
      "source": [
        "generate_story_prompt(\"History of Nigeria\")"
      ],
      "metadata": {
        "colab": {
          "base_uri": "https://localhost:8080/",
          "height": 35
        },
        "id": "dp2ECDBTzbHg",
        "outputId": "d55def58-1e26-49a6-9e76-8187fd17ca8c"
      },
      "execution_count": 4,
      "outputs": [
        {
          "output_type": "execute_result",
          "data": {
            "text/plain": [
              "'Tell me a story about History of Nigeria'"
            ],
            "application/vnd.google.colaboratory.intrinsic+json": {
              "type": "string"
            }
          },
          "metadata": {},
          "execution_count": 4
        }
      ]
    },
    {
      "cell_type": "code",
      "source": [
        "generate_story_prompt(\"Nigerian independence\")"
      ],
      "metadata": {
        "colab": {
          "base_uri": "https://localhost:8080/",
          "height": 35
        },
        "id": "DemJUrWrze96",
        "outputId": "7949d631-f993-4257-92da-10730386d149"
      },
      "execution_count": 5,
      "outputs": [
        {
          "output_type": "execute_result",
          "data": {
            "text/plain": [
              "'Tell me a story about Nigerian independence'"
            ],
            "application/vnd.google.colaboratory.intrinsic+json": {
              "type": "string"
            }
          },
          "metadata": {},
          "execution_count": 5
        }
      ]
    },
    {
      "cell_type": "code",
      "source": [
        "# TASK: Create a function to generate story ideas\n",
        "# generate_story_ideas(title)"
      ],
      "metadata": {
        "id": "KcrJ2JtdzjHW"
      },
      "execution_count": null,
      "outputs": []
    }
  ]
}